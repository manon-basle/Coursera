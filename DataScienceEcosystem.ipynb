{
 "cells": [
  {
   "cell_type": "markdown",
   "id": "058d35e9-26e5-428d-bb8e-a027f25ff580",
   "metadata": {},
   "source": [
    "# Data Science Tools and Ecosystem"
   ]
  },
  {
   "cell_type": "markdown",
   "id": "ec7db965-16dc-4f63-a2f1-09df6f8c5c2d",
   "metadata": {},
   "source": [
    "In this notebook, Data Science Tools are summurized"
   ]
  },
  {
   "cell_type": "markdown",
   "id": "caa2cb34-5b02-43b6-a869-9251605265b8",
   "metadata": {},
   "source": [
    "**Objectives**\n",
    "* List popular languagues for Data Science \n",
    "* List of libraries used by Data Scientists \n",
    "* Create a table\n",
    "* Do some simple arithmetic expression \n",
    "* Do some conversion using division "
   ]
  },
  {
   "cell_type": "markdown",
   "id": "6b7cb84d-c47a-4286-918b-243085c277f9",
   "metadata": {},
   "source": [
    "Some of the popular languages that Data Scientists use are: \n",
    "1. Python\n",
    "2. R \n",
    "3. SQL"
   ]
  },
  {
   "cell_type": "markdown",
   "id": "a0e3e487-3764-4c71-9ebb-46b6cffb3902",
   "metadata": {},
   "source": [
    "Some of the commonly used libraries used by Data Scientists include:\n",
    "1. Pandas\n",
    "2. NumPy\n",
    "3. TensorFlow\n"
   ]
  },
  {
   "cell_type": "markdown",
   "id": "5086a957-7fc6-4375-8d1d-1414ddb651f3",
   "metadata": {},
   "source": [
    "|Data Science Tools|\n",
    "------\n",
    "|R Studio|\n",
    "|Jupyter Notebook| \n",
    "|Apache Spark|"
   ]
  },
  {
   "cell_type": "markdown",
   "id": "3b2dda4e-522c-4d6c-879f-2e8b8f6a904a",
   "metadata": {},
   "source": [
    "### Below are a few examples of evaluating arithmetic expressions in Python"
   ]
  },
  {
   "cell_type": "code",
   "execution_count": 1,
   "id": "17298583-2e07-4de3-a9df-f5c4200350e7",
   "metadata": {
    "tags": []
   },
   "outputs": [
    {
     "data": {
      "text/plain": [
       "17"
      ]
     },
     "execution_count": 1,
     "metadata": {},
     "output_type": "execute_result"
    }
   ],
   "source": [
    "# This is a simple arithmetic expression to multiply then add integers\n",
    "(3*4)+5"
   ]
  },
  {
   "cell_type": "code",
   "execution_count": 2,
   "id": "559456f8-0758-4630-a83b-209b530db6a1",
   "metadata": {
    "tags": []
   },
   "outputs": [
    {
     "data": {
      "text/plain": [
       "3.3333333333333335"
      ]
     },
     "execution_count": 2,
     "metadata": {},
     "output_type": "execute_result"
    }
   ],
   "source": [
    "# This will convert 200 minutes to hours by diving by 60 \n",
    "200/60"
   ]
  },
  {
   "cell_type": "markdown",
   "id": "e66b52cb-fd6e-4f45-99ab-95e0eb273724",
   "metadata": {},
   "source": [
    "## Author\n",
    "Manon BASLE "
   ]
  }
 ],
 "metadata": {
  "kernelspec": {
   "display_name": "Python",
   "language": "python",
   "name": "conda-env-python-py"
  },
  "language_info": {
   "codemirror_mode": {
    "name": "ipython",
    "version": 3
   },
   "file_extension": ".py",
   "mimetype": "text/x-python",
   "name": "python",
   "nbconvert_exporter": "python",
   "pygments_lexer": "ipython3",
   "version": "3.7.12"
  }
 },
 "nbformat": 4,
 "nbformat_minor": 5
}
